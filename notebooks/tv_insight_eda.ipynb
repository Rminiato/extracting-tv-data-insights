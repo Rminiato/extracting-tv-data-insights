{
  "metadata": {
    "kernelspec": {
      "name": "python",
      "display_name": "Python (Pyodide)",
      "language": "python"
    },
    "language_info": {
      "codemirror_mode": {
        "name": "python",
        "version": 3
      },
      "file_extension": ".py",
      "mimetype": "text/x-python",
      "name": "python",
      "nbconvert_exporter": "python",
      "pygments_lexer": "ipython3",
      "version": "3.8"
    },
    "colab": {
      "name": "Welcome to DataCamp Workspaces.ipynb",
      "provenance": []
    },
    "editor": "DataLab"
  },
  "nbformat_minor": 5,
  "nbformat": 4,
  "cells": [
    {
      "id": "8ee01bde-19d6-437a-91ab-7d6d5cb73e38",
      "cell_type": "markdown",
      "source": "# Extracting TV Data Insight\nThe dataset was **provided by DataCamp** and consists of **three CSV files** covering **52 Super Bowls through 2018**:  \n\n## The Data\n\nThree datasets have been provided, and summaries and previews of each are presented below.\n\n### 1. **halftime_musicians.csv**\n\nThis dataset contains information about the musicians who performed during the halftime shows of various Super Bowl games. The structure is shown below, and it applies to all remaining files.\n\n| Column       | Description                                                                                  |\n|--------------|----------------------------------------------------------------------------------------------|\n| `'super_bowl'` | The Super Bowl number (e.g., 52 for Super Bowl LII).                                         |\n| `'musician'`   | The name of the musician or musical group that performed during the halftime show.           |\n| `'num_songs'`  | The number of songs performed by the musician or group during the halftime show.             |\n\n### 2. **super_bowls.csv**\n\nThis dataset provides details about each Super Bowl game, including the date, location, participating teams, and scores, including the points difference between the winning and losing team (`'difference_pts'`).\n\n### 3. **tv.csv**\n\nThis dataset contains television viewership statistics and advertisement costs related to each Super Bowl.",
      "metadata": {}
    },
    {
      "id": "cd83fe09-cd21-464a-a4fe-7ea9b35e44bf",
      "cell_type": "code",
      "source": "# Load the CSV data into DataFrames\nimport pandas as pd\nfrom matplotlib import pyplot as plt\nimport seaborn as sns\n\nsuper_bowls = pd.read_csv(\"datasets/super_bowls.csv\")\nsuper_bowls.head()",
      "metadata": {
        "executionCancelledAt": null,
        "executionTime": 51,
        "lastExecutedAt": 1756112127491,
        "lastExecutedByKernel": "bfc37377-615c-4d50-aff4-f1f5d8c90258",
        "lastScheduledRunId": null,
        "lastSuccessfullyExecutedCode": "# Load the CSV data into DataFrames\nimport pandas as pd\nsuper_bowls = pd.read_csv(\"datasets/super_bowls.csv\")\nsuper_bowls.head()",
        "outputsMetadata": {
          "0": {
            "height": 264,
            "type": "dataFrame",
            "tableState": {
              "customFilter": {
                "const": {
                  "type": "boolean",
                  "valid": true,
                  "value": true
                },
                "id": "75134cbe-7bc5-4ff2-aef2-1faa08deb773",
                "nodeType": "const"
              }
            }
          }
        }
      },
      "outputs": [
        {
          "output_type": "execute_result",
          "data": {
            "application/com.datacamp.data-table.v2+json": {
              "table": {
                "schema": {
                  "fields": [
                    {
                      "name": "index",
                      "type": "integer"
                    },
                    {
                      "name": "date",
                      "type": "string"
                    },
                    {
                      "name": "super_bowl",
                      "type": "integer"
                    },
                    {
                      "name": "venue",
                      "type": "string"
                    },
                    {
                      "name": "city",
                      "type": "string"
                    },
                    {
                      "name": "state",
                      "type": "string"
                    },
                    {
                      "name": "attendance",
                      "type": "integer"
                    },
                    {
                      "name": "team_winner",
                      "type": "string"
                    },
                    {
                      "name": "winning_pts",
                      "type": "integer"
                    },
                    {
                      "name": "qb_winner_1",
                      "type": "string"
                    },
                    {
                      "name": "qb_winner_2",
                      "type": "string"
                    },
                    {
                      "name": "coach_winner",
                      "type": "string"
                    },
                    {
                      "name": "team_loser",
                      "type": "string"
                    },
                    {
                      "name": "losing_pts",
                      "type": "integer"
                    },
                    {
                      "name": "qb_loser_1",
                      "type": "string"
                    },
                    {
                      "name": "qb_loser_2",
                      "type": "string"
                    },
                    {
                      "name": "coach_loser",
                      "type": "string"
                    },
                    {
                      "name": "combined_pts",
                      "type": "integer"
                    },
                    {
                      "name": "difference_pts",
                      "type": "integer"
                    }
                  ],
                  "primaryKey": [
                    "index"
                  ],
                  "pandas_version": "1.4.0"
                },
                "data": {
                  "index": [
                    0,
                    1,
                    2,
                    3,
                    4
                  ],
                  "date": [
                    "2018-02-04",
                    "2017-02-05",
                    "2016-02-07",
                    "2015-02-01",
                    "2014-02-02"
                  ],
                  "super_bowl": [
                    52,
                    51,
                    50,
                    49,
                    48
                  ],
                  "venue": [
                    "U.S. Bank Stadium",
                    "NRG Stadium",
                    "Levi's Stadium",
                    "University of Phoenix Stadium",
                    "MetLife Stadium"
                  ],
                  "city": [
                    "Minneapolis",
                    "Houston",
                    "Santa Clara",
                    "Glendale",
                    "East Rutherford"
                  ],
                  "state": [
                    "Minnesota",
                    "Texas",
                    "California",
                    "Arizona",
                    "New Jersey"
                  ],
                  "attendance": [
                    67612,
                    70807,
                    71088,
                    70288,
                    82529
                  ],
                  "team_winner": [
                    "Philadelphia Eagles",
                    "New England Patriots",
                    "Denver Broncos",
                    "New England Patriots",
                    "Seattle Seahawks"
                  ],
                  "winning_pts": [
                    41,
                    34,
                    24,
                    28,
                    43
                  ],
                  "qb_winner_1": [
                    "Nick Foles",
                    "Tom Brady",
                    "Peyton Manning",
                    "Tom Brady",
                    "Russell Wilson"
                  ],
                  "qb_winner_2": [
                    null,
                    null,
                    null,
                    null,
                    null
                  ],
                  "coach_winner": [
                    "Doug Pederson",
                    "Bill Belichick",
                    "Gary Kubiak",
                    "Bill Belichick",
                    "Pete Carroll"
                  ],
                  "team_loser": [
                    "New England Patriots",
                    "Atlanta Falcons",
                    "Carolina Panthers",
                    "Seattle Seahawks",
                    "Denver Broncos"
                  ],
                  "losing_pts": [
                    33,
                    28,
                    10,
                    24,
                    8
                  ],
                  "qb_loser_1": [
                    "Tom Brady",
                    "Matt Ryan",
                    "Cam Newton",
                    "Russell Wilson",
                    "Peyton Manning"
                  ],
                  "qb_loser_2": [
                    null,
                    null,
                    null,
                    null,
                    null
                  ],
                  "coach_loser": [
                    "Bill Belichick",
                    "Dan Quinn",
                    "Ron Rivera",
                    "Pete Carroll",
                    "John Fox"
                  ],
                  "combined_pts": [
                    74,
                    62,
                    34,
                    52,
                    51
                  ],
                  "difference_pts": [
                    8,
                    6,
                    14,
                    4,
                    35
                  ]
                }
              },
              "total_rows": 5,
              "truncation_type": null
            },
            "text/plain": "         date  super_bowl  ... combined_pts difference_pts\n0  2018-02-04          52  ...           74              8\n1  2017-02-05          51  ...           62              6\n2  2016-02-07          50  ...           34             14\n3  2015-02-01          49  ...           52              4\n4  2014-02-02          48  ...           51             35\n\n[5 rows x 18 columns]",
            "text/html": "<div>\n<style scoped>\n    .dataframe tbody tr th:only-of-type {\n        vertical-align: middle;\n    }\n\n    .dataframe tbody tr th {\n        vertical-align: top;\n    }\n\n    .dataframe thead th {\n        text-align: right;\n    }\n</style>\n<table border=\"1\" class=\"dataframe\">\n  <thead>\n    <tr style=\"text-align: right;\">\n      <th></th>\n      <th>date</th>\n      <th>super_bowl</th>\n      <th>venue</th>\n      <th>city</th>\n      <th>state</th>\n      <th>attendance</th>\n      <th>team_winner</th>\n      <th>winning_pts</th>\n      <th>qb_winner_1</th>\n      <th>qb_winner_2</th>\n      <th>coach_winner</th>\n      <th>team_loser</th>\n      <th>losing_pts</th>\n      <th>qb_loser_1</th>\n      <th>qb_loser_2</th>\n      <th>coach_loser</th>\n      <th>combined_pts</th>\n      <th>difference_pts</th>\n    </tr>\n  </thead>\n  <tbody>\n    <tr>\n      <th>0</th>\n      <td>2018-02-04</td>\n      <td>52</td>\n      <td>U.S. Bank Stadium</td>\n      <td>Minneapolis</td>\n      <td>Minnesota</td>\n      <td>67612</td>\n      <td>Philadelphia Eagles</td>\n      <td>41</td>\n      <td>Nick Foles</td>\n      <td>NaN</td>\n      <td>Doug Pederson</td>\n      <td>New England Patriots</td>\n      <td>33</td>\n      <td>Tom Brady</td>\n      <td>NaN</td>\n      <td>Bill Belichick</td>\n      <td>74</td>\n      <td>8</td>\n    </tr>\n    <tr>\n      <th>1</th>\n      <td>2017-02-05</td>\n      <td>51</td>\n      <td>NRG Stadium</td>\n      <td>Houston</td>\n      <td>Texas</td>\n      <td>70807</td>\n      <td>New England Patriots</td>\n      <td>34</td>\n      <td>Tom Brady</td>\n      <td>NaN</td>\n      <td>Bill Belichick</td>\n      <td>Atlanta Falcons</td>\n      <td>28</td>\n      <td>Matt Ryan</td>\n      <td>NaN</td>\n      <td>Dan Quinn</td>\n      <td>62</td>\n      <td>6</td>\n    </tr>\n    <tr>\n      <th>2</th>\n      <td>2016-02-07</td>\n      <td>50</td>\n      <td>Levi's Stadium</td>\n      <td>Santa Clara</td>\n      <td>California</td>\n      <td>71088</td>\n      <td>Denver Broncos</td>\n      <td>24</td>\n      <td>Peyton Manning</td>\n      <td>NaN</td>\n      <td>Gary Kubiak</td>\n      <td>Carolina Panthers</td>\n      <td>10</td>\n      <td>Cam Newton</td>\n      <td>NaN</td>\n      <td>Ron Rivera</td>\n      <td>34</td>\n      <td>14</td>\n    </tr>\n    <tr>\n      <th>3</th>\n      <td>2015-02-01</td>\n      <td>49</td>\n      <td>University of Phoenix Stadium</td>\n      <td>Glendale</td>\n      <td>Arizona</td>\n      <td>70288</td>\n      <td>New England Patriots</td>\n      <td>28</td>\n      <td>Tom Brady</td>\n      <td>NaN</td>\n      <td>Bill Belichick</td>\n      <td>Seattle Seahawks</td>\n      <td>24</td>\n      <td>Russell Wilson</td>\n      <td>NaN</td>\n      <td>Pete Carroll</td>\n      <td>52</td>\n      <td>4</td>\n    </tr>\n    <tr>\n      <th>4</th>\n      <td>2014-02-02</td>\n      <td>48</td>\n      <td>MetLife Stadium</td>\n      <td>East Rutherford</td>\n      <td>New Jersey</td>\n      <td>82529</td>\n      <td>Seattle Seahawks</td>\n      <td>43</td>\n      <td>Russell Wilson</td>\n      <td>NaN</td>\n      <td>Pete Carroll</td>\n      <td>Denver Broncos</td>\n      <td>8</td>\n      <td>Peyton Manning</td>\n      <td>NaN</td>\n      <td>John Fox</td>\n      <td>51</td>\n      <td>35</td>\n    </tr>\n  </tbody>\n</table>\n</div>"
          },
          "metadata": {
            "application/com.datacamp.data-table.v2+json": {
              "status": "success"
            }
          },
          "execution_count": 19
        }
      ],
      "execution_count": 19
    },
    {
      "id": "a6e17e28-6668-4ec1-a910-69b4c6805fd9",
      "cell_type": "code",
      "source": "tv = pd.read_csv(\"datasets/tv.csv\")\ntv.head()",
      "metadata": {
        "executionCancelledAt": null,
        "executionTime": 53,
        "lastExecutedAt": 1756112127544,
        "lastExecutedByKernel": "bfc37377-615c-4d50-aff4-f1f5d8c90258",
        "lastScheduledRunId": null,
        "lastSuccessfullyExecutedCode": "tv = pd.read_csv(\"datasets/tv.csv\")\ntv.head()",
        "outputsMetadata": {
          "0": {
            "height": 264,
            "type": "dataFrame",
            "tableState": {
              "customFilter": {
                "const": {
                  "type": "boolean",
                  "valid": true,
                  "value": true
                },
                "id": "75134cbe-7bc5-4ff2-aef2-1faa08deb773",
                "nodeType": "const"
              }
            }
          }
        }
      },
      "outputs": [
        {
          "output_type": "execute_result",
          "data": {
            "application/com.datacamp.data-table.v2+json": {
              "table": {
                "schema": {
                  "fields": [
                    {
                      "name": "index",
                      "type": "integer"
                    },
                    {
                      "name": "super_bowl",
                      "type": "integer"
                    },
                    {
                      "name": "network",
                      "type": "string"
                    },
                    {
                      "name": "avg_us_viewers",
                      "type": "integer"
                    },
                    {
                      "name": "total_us_viewers",
                      "type": "number"
                    },
                    {
                      "name": "rating_household",
                      "type": "number"
                    },
                    {
                      "name": "share_household",
                      "type": "integer"
                    },
                    {
                      "name": "rating_18_49",
                      "type": "number"
                    },
                    {
                      "name": "share_18_49",
                      "type": "number"
                    },
                    {
                      "name": "ad_cost",
                      "type": "integer"
                    }
                  ],
                  "primaryKey": [
                    "index"
                  ],
                  "pandas_version": "1.4.0"
                },
                "data": {
                  "index": [
                    0,
                    1,
                    2,
                    3,
                    4
                  ],
                  "super_bowl": [
                    52,
                    51,
                    50,
                    49,
                    48
                  ],
                  "network": [
                    "NBC",
                    "Fox",
                    "CBS",
                    "NBC",
                    "Fox"
                  ],
                  "avg_us_viewers": [
                    103390000,
                    111319000,
                    111864000,
                    114442000,
                    112191000
                  ],
                  "total_us_viewers": [
                    null,
                    172000000,
                    167000000,
                    168000000,
                    167000000
                  ],
                  "rating_household": [
                    43.1,
                    45.3,
                    46.6,
                    47.5,
                    46.7
                  ],
                  "share_household": [
                    68,
                    73,
                    72,
                    71,
                    69
                  ],
                  "rating_18_49": [
                    33.4,
                    37.1,
                    37.7,
                    39.1,
                    39.3
                  ],
                  "share_18_49": [
                    78,
                    79,
                    79,
                    79,
                    77
                  ],
                  "ad_cost": [
                    5000000,
                    5000000,
                    5000000,
                    4500000,
                    4000000
                  ]
                }
              },
              "total_rows": 5,
              "truncation_type": null
            },
            "text/plain": "   super_bowl network  avg_us_viewers  ...  rating_18_49  share_18_49  ad_cost\n0          52     NBC       103390000  ...          33.4         78.0  5000000\n1          51     Fox       111319000  ...          37.1         79.0  5000000\n2          50     CBS       111864000  ...          37.7         79.0  5000000\n3          49     NBC       114442000  ...          39.1         79.0  4500000\n4          48     Fox       112191000  ...          39.3         77.0  4000000\n\n[5 rows x 9 columns]",
            "text/html": "<div>\n<style scoped>\n    .dataframe tbody tr th:only-of-type {\n        vertical-align: middle;\n    }\n\n    .dataframe tbody tr th {\n        vertical-align: top;\n    }\n\n    .dataframe thead th {\n        text-align: right;\n    }\n</style>\n<table border=\"1\" class=\"dataframe\">\n  <thead>\n    <tr style=\"text-align: right;\">\n      <th></th>\n      <th>super_bowl</th>\n      <th>network</th>\n      <th>avg_us_viewers</th>\n      <th>total_us_viewers</th>\n      <th>rating_household</th>\n      <th>share_household</th>\n      <th>rating_18_49</th>\n      <th>share_18_49</th>\n      <th>ad_cost</th>\n    </tr>\n  </thead>\n  <tbody>\n    <tr>\n      <th>0</th>\n      <td>52</td>\n      <td>NBC</td>\n      <td>103390000</td>\n      <td>NaN</td>\n      <td>43.1</td>\n      <td>68</td>\n      <td>33.4</td>\n      <td>78.0</td>\n      <td>5000000</td>\n    </tr>\n    <tr>\n      <th>1</th>\n      <td>51</td>\n      <td>Fox</td>\n      <td>111319000</td>\n      <td>172000000.0</td>\n      <td>45.3</td>\n      <td>73</td>\n      <td>37.1</td>\n      <td>79.0</td>\n      <td>5000000</td>\n    </tr>\n    <tr>\n      <th>2</th>\n      <td>50</td>\n      <td>CBS</td>\n      <td>111864000</td>\n      <td>167000000.0</td>\n      <td>46.6</td>\n      <td>72</td>\n      <td>37.7</td>\n      <td>79.0</td>\n      <td>5000000</td>\n    </tr>\n    <tr>\n      <th>3</th>\n      <td>49</td>\n      <td>NBC</td>\n      <td>114442000</td>\n      <td>168000000.0</td>\n      <td>47.5</td>\n      <td>71</td>\n      <td>39.1</td>\n      <td>79.0</td>\n      <td>4500000</td>\n    </tr>\n    <tr>\n      <th>4</th>\n      <td>48</td>\n      <td>Fox</td>\n      <td>112191000</td>\n      <td>167000000.0</td>\n      <td>46.7</td>\n      <td>69</td>\n      <td>39.3</td>\n      <td>77.0</td>\n      <td>4000000</td>\n    </tr>\n  </tbody>\n</table>\n</div>"
          },
          "metadata": {
            "application/com.datacamp.data-table.v2+json": {
              "status": "success"
            }
          },
          "execution_count": 20
        }
      ],
      "execution_count": 20
    },
    {
      "id": "5a89e5fb-796b-4a4d-b637-eda7e0acd50d",
      "cell_type": "code",
      "source": "halftime_musicians = pd.read_csv(\"datasets/halftime_musicians.csv\")\nhalftime_musicians.head()",
      "metadata": {
        "executionCancelledAt": null,
        "executionTime": 51,
        "lastExecutedAt": 1756112127595,
        "lastExecutedByKernel": "bfc37377-615c-4d50-aff4-f1f5d8c90258",
        "lastScheduledRunId": null,
        "lastSuccessfullyExecutedCode": "halftime_musicians = pd.read_csv(\"datasets/halftime_musicians.csv\")\nhalftime_musicians.head()",
        "outputsMetadata": {
          "0": {
            "height": 249,
            "type": "dataFrame",
            "tableState": {
              "customFilter": {
                "const": {
                  "type": "boolean",
                  "valid": true,
                  "value": true
                },
                "id": "d500f5c4-3c4e-45d5-9d30-d20c2c0b1f6b",
                "nodeType": "const"
              }
            },
            "chartState": {
              "chartModel": {
                "modelType": "range",
                "chartId": "id-0gj0qwul853h",
                "chartType": "groupedColumn",
                "chartThemeName": "datalabTheme",
                "chartOptions": {},
                "chartPalette": {
                  "fills": [
                    "#6568A0",
                    "#43D7A4",
                    "#4095DB",
                    "#FACC5F",
                    "#CAE279",
                    "#F08083",
                    "#5BCDF2",
                    "#F099DC",
                    "#965858",
                    "#7DB64F",
                    "#A98954"
                  ],
                  "strokes": [
                    "#6568A0",
                    "#43D7A4",
                    "#4095DB",
                    "#FACC5F",
                    "#CAE279",
                    "#F08083",
                    "#5BCDF2",
                    "#F099DC",
                    "#965858",
                    "#7DB64F",
                    "#A98954"
                  ],
                  "up": {
                    "fill": "#459d55",
                    "stroke": "#1e652e"
                  },
                  "down": {
                    "fill": "#ef5452",
                    "stroke": "#a82529"
                  },
                  "neutral": {
                    "fill": "#b5b5b5",
                    "stroke": "#575757"
                  },
                  "altUp": {
                    "fill": "#5090dc",
                    "stroke": "#2b5c95"
                  },
                  "altDown": {
                    "fill": "#ffa03a",
                    "stroke": "#cc6f10"
                  },
                  "altNeutral": {
                    "fill": "#b5b5b5",
                    "stroke": "#575757"
                  }
                },
                "cellRange": {
                  "rowStartIndex": null,
                  "rowStartPinned": null,
                  "rowEndIndex": null,
                  "rowEndPinned": null,
                  "columns": [
                    "musician",
                    "super_bowl"
                  ]
                },
                "switchCategorySeries": false,
                "suppressChartRanges": false,
                "aggFunc": "sum",
                "unlinkChart": false,
                "version": "32.2.2"
              },
              "rangeChartModel": {
                "aggFunc": "sum",
                "rangeColumns": [
                  "musician",
                  "super_bowl"
                ],
                "switchCategorySeries": false
              },
              "activeTab": "data"
            }
          }
        },
        "visualizeDataframe": false,
        "version": "ag-charts-v1"
      },
      "outputs": [
        {
          "output_type": "execute_result",
          "data": {
            "application/com.datacamp.data-table.v2+json": {
              "table": {
                "schema": {
                  "fields": [
                    {
                      "name": "index",
                      "type": "integer"
                    },
                    {
                      "name": "super_bowl",
                      "type": "integer"
                    },
                    {
                      "name": "musician",
                      "type": "string"
                    },
                    {
                      "name": "num_songs",
                      "type": "number"
                    }
                  ],
                  "primaryKey": [
                    "index"
                  ],
                  "pandas_version": "1.4.0"
                },
                "data": {
                  "index": [
                    0,
                    1,
                    2,
                    3,
                    4
                  ],
                  "super_bowl": [
                    52,
                    52,
                    51,
                    50,
                    50
                  ],
                  "musician": [
                    "Justin Timberlake",
                    "University of Minnesota Marching Band",
                    "Lady Gaga",
                    "Coldplay",
                    "Beyoncé"
                  ],
                  "num_songs": [
                    11,
                    1,
                    7,
                    6,
                    3
                  ]
                }
              },
              "total_rows": 5,
              "truncation_type": null
            },
            "text/plain": "   super_bowl                               musician  num_songs\n0          52                      Justin Timberlake       11.0\n1          52  University of Minnesota Marching Band        1.0\n2          51                              Lady Gaga        7.0\n3          50                               Coldplay        6.0\n4          50                                Beyoncé        3.0",
            "text/html": "<div>\n<style scoped>\n    .dataframe tbody tr th:only-of-type {\n        vertical-align: middle;\n    }\n\n    .dataframe tbody tr th {\n        vertical-align: top;\n    }\n\n    .dataframe thead th {\n        text-align: right;\n    }\n</style>\n<table border=\"1\" class=\"dataframe\">\n  <thead>\n    <tr style=\"text-align: right;\">\n      <th></th>\n      <th>super_bowl</th>\n      <th>musician</th>\n      <th>num_songs</th>\n    </tr>\n  </thead>\n  <tbody>\n    <tr>\n      <th>0</th>\n      <td>52</td>\n      <td>Justin Timberlake</td>\n      <td>11.0</td>\n    </tr>\n    <tr>\n      <th>1</th>\n      <td>52</td>\n      <td>University of Minnesota Marching Band</td>\n      <td>1.0</td>\n    </tr>\n    <tr>\n      <th>2</th>\n      <td>51</td>\n      <td>Lady Gaga</td>\n      <td>7.0</td>\n    </tr>\n    <tr>\n      <th>3</th>\n      <td>50</td>\n      <td>Coldplay</td>\n      <td>6.0</td>\n    </tr>\n    <tr>\n      <th>4</th>\n      <td>50</td>\n      <td>Beyoncé</td>\n      <td>3.0</td>\n    </tr>\n  </tbody>\n</table>\n</div>"
          },
          "metadata": {
            "application/com.datacamp.data-table.v2+json": {
              "status": "success"
            }
          },
          "execution_count": 21
        }
      ],
      "execution_count": 21
    },
    {
      "id": "8de1e7f0-9164-4da8-97af-a3095ea15a32",
      "cell_type": "code",
      "source": "# Plotting the lineplot with the correct column name\nsns.lineplot(data=tv, x=\"super_bowl\", y=\"avg_us_viewers\")\nplt.title('Average Number of US Viewers')\nplt.xlabel(\"n_superbowl\")\nplt.ylabel(\"AVG_US_viewer\")\nviewership_increased = True\nprint(f\"Super Bowl viewership increased over time.\")\n",
      "metadata": {
        "executionCancelledAt": null,
        "executionTime": 300,
        "lastExecutedAt": 1756112127895,
        "lastExecutedByKernel": "bfc37377-615c-4d50-aff4-f1f5d8c90258",
        "lastScheduledRunId": null,
        "lastSuccessfullyExecutedCode": "# Start coding here\n# Use as many cells as you need\nimport seaborn as sns\n\n# Ensure the 'tv' DataFrame is defined and contains the correct columns\n# For demonstration, let's create a sample DataFrame\nimport pandas as pd\nfrom matplotlib import pyplot as plt\n\ntv = pd.DataFrame(tv)\n\n# Plotting the lineplot with the correct column name\nsns.lineplot(data=tv, x=\"super_bowl\", y=\"avg_us_viewers\")\nplt.title('Average Number of US Viewers')\nplt.xlabel(\"n_superbowl\")\nplt.ylabel(\"AVG_US_viewer\")\nviewership_increased = True\nprint(f\"Super Bowl viewership increased over time.\")\n",
        "outputsMetadata": {
          "0": {
            "height": 38,
            "type": "stream"
          }
        },
        "trusted": true
      },
      "outputs": [
        {
          "ename": "<class 'ModuleNotFoundError'>",
          "evalue": "No module named 'seaborn'",
          "traceback": [
            "\u001b[0;31m---------------------------------------------------------------------------\u001b[0m",
            "\u001b[0;31mModuleNotFoundError\u001b[0m                       Traceback (most recent call last)",
            "Cell \u001b[0;32mIn[1], line 3\u001b[0m\n\u001b[1;32m      1\u001b[0m \u001b[38;5;66;03m# Start coding here\u001b[39;00m\n\u001b[1;32m      2\u001b[0m \u001b[38;5;66;03m# Use as many cells as you need\u001b[39;00m\n\u001b[0;32m----> 3\u001b[0m \u001b[38;5;28;01mimport\u001b[39;00m \u001b[38;5;21;01mseaborn\u001b[39;00m \u001b[38;5;28;01mas\u001b[39;00m \u001b[38;5;21;01msns\u001b[39;00m\n\u001b[1;32m      5\u001b[0m \u001b[38;5;66;03m# Ensure the 'tv' DataFrame is defined and contains the correct columns\u001b[39;00m\n\u001b[1;32m      6\u001b[0m \u001b[38;5;66;03m# For demonstration, let's create a sample DataFrame\u001b[39;00m\n\u001b[1;32m      7\u001b[0m \u001b[38;5;28;01mimport\u001b[39;00m \u001b[38;5;21;01mpandas\u001b[39;00m \u001b[38;5;28;01mas\u001b[39;00m \u001b[38;5;21;01mpd\u001b[39;00m\n",
            "\u001b[0;31mModuleNotFoundError\u001b[0m: No module named 'seaborn'"
          ],
          "output_type": "error"
        }
      ],
      "execution_count": 1
    },
    {
      "id": "9055cd0a-db2f-4a72-9c5b-39f14b344a13",
      "cell_type": "code",
      "source": "sp_bowl_40 = super_bowls[super_bowls[\"difference_pts\"] >40]\nimport seaborn as sns\n\n# Ensure the 'tv' DataFrame is defined and contains the correct columns\n# For demonstration, let's create a sample DataFrame\nimport pandas as pd\n\n\ndifference = len(super_bowls[super_bowls[\"difference_pts\"]>40])\n\n# You can also plot a histogram of point differences to visualize the result\nplt.hist(super_bowls.difference_pts)\nplt.xlabel('Point Difference')\nplt.ylabel('Number of Super Bowls')\nplt.show()\nprint(f\"The matches finishing with a point difference over 40 were: {difference}\")\n",
      "metadata": {
        "executionCancelledAt": null,
        "executionTime": 205,
        "lastExecutedAt": 1756112128100,
        "lastExecutedByKernel": "bfc37377-615c-4d50-aff4-f1f5d8c90258",
        "lastScheduledRunId": null,
        "lastSuccessfullyExecutedCode": "sp_bowl_40 = super_bowls[super_bowls[\"difference_pts\"] >40]\nimport seaborn as sns\n\n# Ensure the 'tv' DataFrame is defined and contains the correct columns\n# For demonstration, let's create a sample DataFrame\nimport pandas as pd\n\n\ndifference = len(super_bowls[super_bowls[\"difference_pts\"]>40])\n\n# You can also plot a histogram of point differences to visualize the result\nplt.hist(super_bowls.difference_pts)\nplt.xlabel('Point Difference')\nplt.ylabel('Number of Super Bowls')\nplt.show()\nprint(f\"The matches finishing with a point difference over 40 were: {difference}\")\n",
        "outputsMetadata": {
          "1": {
            "height": 38,
            "type": "stream"
          }
        }
      },
      "outputs": [
        {
          "output_type": "display_data",
          "data": {
            "text/plain": "<Figure size 640x480 with 1 Axes>",
            "image/png": "[encoded data removed]"
          },
          "metadata": {
            "image/png": {
              "width": 558,
              "height": 432
            }
          }
        },
        {
          "output_type": "stream",
          "name": "stdout",
          "text": "The matches finishing with a point difference over 40 were: 1\n"
        }
      ],
      "execution_count": 23
    },
    {
      "id": "c1622cfe-0428-4228-b720-0e83b3734cbc",
      "cell_type": "code",
      "source": "halftime_musicians.head()\nh_mus = halftime_musicians\nprint(h_mus.columns)\nmost_songs = h_mus.groupby(\"musician\")['num_songs'].sum().sort_values(ascending=False)\nprint(f\"{most_songs.index[0]} è l'artista che ha cantanto più di tutti\")",
      "metadata": {
        "executionCancelledAt": null,
        "executionTime": 13,
        "lastExecutedAt": 1756112177069,
        "lastExecutedByKernel": "bfc37377-615c-4d50-aff4-f1f5d8c90258",
        "lastScheduledRunId": null,
        "lastSuccessfullyExecutedCode": "halftime_musicians.head()\nh_mus = halftime_musicians\nprint(h_mus.columns)\nmost_songs = h_mus.groupby(\"musician\")['num_songs'].sum().sort_values(ascending=False)\nprint(f\"{most_songs.index[0]} è l'artista che ha cantanto più di tutti\")",
        "outputsMetadata": {
          "0": {
            "height": 59,
            "type": "stream"
          }
        }
      },
      "outputs": [
        {
          "output_type": "stream",
          "name": "stdout",
          "text": "Index(['super_bowl', 'musician', 'num_songs'], dtype='object')\nJustin Timberlake è l'artista che ha cantanto più di tutti\n"
        }
      ],
      "execution_count": 27
    }
  ]
}